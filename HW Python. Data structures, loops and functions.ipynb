{
 "cells": [
  {
   "cell_type": "markdown",
   "id": "0d2ecd83",
   "metadata": {},
   "source": [
    "1.Створіть множину (set) з наведеного спиcку та виведіть результат на екран. Чим відрізняється множина від списку?"
   ]
  },
  {
   "cell_type": "code",
   "execution_count": 1,
   "id": "ee23a5dc",
   "metadata": {
    "ExecuteTime": {
     "end_time": "2023-06-09T11:55:47.718118Z",
     "start_time": "2023-06-09T11:55:47.713117Z"
    }
   },
   "outputs": [],
   "source": [
    "input_list =  ['boat', 'bus', 'plane', 'train', 'boat', 'autobus', 'bus']"
   ]
  },
  {
   "cell_type": "code",
   "execution_count": 2,
   "id": "c96a7427",
   "metadata": {
    "ExecuteTime": {
     "end_time": "2023-06-09T11:55:53.325863Z",
     "start_time": "2023-06-09T11:55:53.307220Z"
    }
   },
   "outputs": [
    {
     "data": {
      "text/plain": [
       "{'autobus', 'boat', 'bus', 'plane', 'train'}"
      ]
     },
     "execution_count": 2,
     "metadata": {},
     "output_type": "execute_result"
    }
   ],
   "source": [
    "set(input_list)"
   ]
  },
  {
   "cell_type": "markdown",
   "id": "e2bc834d",
   "metadata": {},
   "source": [
    "Множина містить невпорядковані унікальні елементи. Список - це спорядкований набір будь-яких елементів."
   ]
  },
  {
   "cell_type": "markdown",
   "id": "777910c0",
   "metadata": {},
   "source": [
    "2.Виведіть окремо ключі та окремо значення двома окремими списками наступного словника:"
   ]
  },
  {
   "cell_type": "code",
   "execution_count": 3,
   "id": "2af5c67c",
   "metadata": {
    "ExecuteTime": {
     "end_time": "2023-06-09T11:57:01.192088Z",
     "start_time": "2023-06-09T11:57:01.182248Z"
    }
   },
   "outputs": [],
   "source": [
    "light_signals = {'green': 'go', 'yellow': 'get ready', 'red': 'stop'}"
   ]
  },
  {
   "cell_type": "code",
   "execution_count": 11,
   "id": "82a89c9e",
   "metadata": {
    "ExecuteTime": {
     "end_time": "2023-06-09T11:59:24.469195Z",
     "start_time": "2023-06-09T11:59:24.462066Z"
    }
   },
   "outputs": [
    {
     "name": "stdout",
     "output_type": "stream",
     "text": [
      "['green', 'yellow', 'red']\n",
      "['go', 'get ready', 'stop']\n"
     ]
    }
   ],
   "source": [
    "print(list(light_signals.keys()))\n",
    "print(list(light_signals.values()))"
   ]
  },
  {
   "cell_type": "markdown",
   "id": "10185597",
   "metadata": {
    "ExecuteTime": {
     "end_time": "2023-02-16T16:25:21.907981Z",
     "start_time": "2023-02-16T16:25:21.902740Z"
    }
   },
   "source": [
    "3.Напишіть фрагмент коду, що формує список всіх чисел між 1200 і 2700 (обидва включаючи), які деляться на 7 АБО на 5 без остачі. Виведіть результуючий список на екран."
   ]
  },
  {
   "cell_type": "code",
   "execution_count": 15,
   "id": "0fbb161b",
   "metadata": {
    "ExecuteTime": {
     "end_time": "2023-06-09T12:03:22.059192Z",
     "start_time": "2023-06-09T12:03:22.051427Z"
    }
   },
   "outputs": [
    {
     "name": "stdout",
     "output_type": "stream",
     "text": [
      "[1200, 1204, 1205, 1210, 1211, 1215, 1218, 1220, 1225, 1230, 1232, 1235, 1239, 1240, 1245, 1246, 1250, 1253, 1255, 1260, 1265, 1267, 1270, 1274, 1275, 1280, 1281, 1285, 1288, 1290, 1295, 1300, 1302, 1305, 1309, 1310, 1315, 1316, 1320, 1323, 1325, 1330, 1335, 1337, 1340, 1344, 1345, 1350, 1351, 1355, 1358, 1360, 1365, 1370, 1372, 1375, 1379, 1380, 1385, 1386, 1390, 1393, 1395, 1400, 1405, 1407, 1410, 1414, 1415, 1420, 1421, 1425, 1428, 1430, 1435, 1440, 1442, 1445, 1449, 1450, 1455, 1456, 1460, 1463, 1465, 1470, 1475, 1477, 1480, 1484, 1485, 1490, 1491, 1495, 1498, 1500, 1505, 1510, 1512, 1515, 1519, 1520, 1525, 1526, 1530, 1533, 1535, 1540, 1545, 1547, 1550, 1554, 1555, 1560, 1561, 1565, 1568, 1570, 1575, 1580, 1582, 1585, 1589, 1590, 1595, 1596, 1600, 1603, 1605, 1610, 1615, 1617, 1620, 1624, 1625, 1630, 1631, 1635, 1638, 1640, 1645, 1650, 1652, 1655, 1659, 1660, 1665, 1666, 1670, 1673, 1675, 1680, 1685, 1687, 1690, 1694, 1695, 1700, 1701, 1705, 1708, 1710, 1715, 1720, 1722, 1725, 1729, 1730, 1735, 1736, 1740, 1743, 1745, 1750, 1755, 1757, 1760, 1764, 1765, 1770, 1771, 1775, 1778, 1780, 1785, 1790, 1792, 1795, 1799, 1800, 1805, 1806, 1810, 1813, 1815, 1820, 1825, 1827, 1830, 1834, 1835, 1840, 1841, 1845, 1848, 1850, 1855, 1860, 1862, 1865, 1869, 1870, 1875, 1876, 1880, 1883, 1885, 1890, 1895, 1897, 1900, 1904, 1905, 1910, 1911, 1915, 1918, 1920, 1925, 1930, 1932, 1935, 1939, 1940, 1945, 1946, 1950, 1953, 1955, 1960, 1965, 1967, 1970, 1974, 1975, 1980, 1981, 1985, 1988, 1990, 1995, 2000, 2002, 2005, 2009, 2010, 2015, 2016, 2020, 2023, 2025, 2030, 2035, 2037, 2040, 2044, 2045, 2050, 2051, 2055, 2058, 2060, 2065, 2070, 2072, 2075, 2079, 2080, 2085, 2086, 2090, 2093, 2095, 2100, 2105, 2107, 2110, 2114, 2115, 2120, 2121, 2125, 2128, 2130, 2135, 2140, 2142, 2145, 2149, 2150, 2155, 2156, 2160, 2163, 2165, 2170, 2175, 2177, 2180, 2184, 2185, 2190, 2191, 2195, 2198, 2200, 2205, 2210, 2212, 2215, 2219, 2220, 2225, 2226, 2230, 2233, 2235, 2240, 2245, 2247, 2250, 2254, 2255, 2260, 2261, 2265, 2268, 2270, 2275, 2280, 2282, 2285, 2289, 2290, 2295, 2296, 2300, 2303, 2305, 2310, 2315, 2317, 2320, 2324, 2325, 2330, 2331, 2335, 2338, 2340, 2345, 2350, 2352, 2355, 2359, 2360, 2365, 2366, 2370, 2373, 2375, 2380, 2385, 2387, 2390, 2394, 2395, 2400, 2401, 2405, 2408, 2410, 2415, 2420, 2422, 2425, 2429, 2430, 2435, 2436, 2440, 2443, 2445, 2450, 2455, 2457, 2460, 2464, 2465, 2470, 2471, 2475, 2478, 2480, 2485, 2490, 2492, 2495, 2499, 2500, 2505, 2506, 2510, 2513, 2515, 2520, 2525, 2527, 2530, 2534, 2535, 2540, 2541, 2545, 2548, 2550, 2555, 2560, 2562, 2565, 2569, 2570, 2575, 2576, 2580, 2583, 2585, 2590, 2595, 2597, 2600, 2604, 2605, 2610, 2611, 2615, 2618, 2620, 2625, 2630, 2632, 2635, 2639, 2640, 2645, 2646, 2650, 2653, 2655, 2660, 2665, 2667, 2670, 2674, 2675, 2680, 2681, 2685, 2688, 2690, 2695]\n"
     ]
    }
   ],
   "source": [
    "list_of_numbers = []\n",
    "for i in range(1200,2700):\n",
    "    if i % 5 == 0 or i % 7 == 0:\n",
    "        list_of_numbers.append(i)\n",
    "print(list_of_numbers)"
   ]
  },
  {
   "cell_type": "markdown",
   "id": "e372de22",
   "metadata": {
    "ExecuteTime": {
     "end_time": "2023-02-16T16:28:06.826641Z",
     "start_time": "2023-02-16T16:28:06.822293Z"
    }
   },
   "source": [
    "4.Напишіть функцію, яка для заданого цілого числа виводить на екран наступну фігуру. Підказка - тут треба використати вкладені цикли for. Наприклад, для `n=5` фігура матиме наступний вигляд:\n",
    "\n",
    "```\n",
    "* \n",
    "* * \n",
    "* * * \n",
    "* * * * \n",
    "* * * * * \n",
    "* * * * \n",
    "* * * \n",
    "* * \n",
    "*\n",
    "```\n",
    "\n",
    "Запустіть фукнцію для значень n: 3, 5, 10."
   ]
  },
  {
   "cell_type": "code",
   "execution_count": 152,
   "id": "4af21a00",
   "metadata": {
    "ExecuteTime": {
     "end_time": "2023-06-09T13:22:20.297292Z",
     "start_time": "2023-06-09T13:22:20.287526Z"
    }
   },
   "outputs": [
    {
     "name": "stdout",
     "output_type": "stream",
     "text": [
      "* \n",
      "* * \n",
      "* * * \n",
      "* * \n",
      "* \n",
      "* \n",
      "* * \n",
      "* * * \n",
      "* * * * \n",
      "* * * * * \n",
      "* * * * \n",
      "* * * \n",
      "* * \n",
      "* \n",
      "* \n",
      "* * \n",
      "* * * \n",
      "* * * * \n",
      "* * * * * \n",
      "* * * * * * \n",
      "* * * * * * * \n",
      "* * * * * * * * \n",
      "* * * * * * * * * \n",
      "* * * * * * * * * * \n",
      "* * * * * * * * * \n",
      "* * * * * * * * \n",
      "* * * * * * * \n",
      "* * * * * * \n",
      "* * * * * \n",
      "* * * * \n",
      "* * * \n",
      "* * \n",
      "* \n"
     ]
    }
   ],
   "source": [
    "def figura(x):\n",
    "    a = x\n",
    "    for a in range(-(a-1),a):\n",
    "        print('*', end = ' ')\n",
    "        b = x\n",
    "        for b in range(-(b-1),0):\n",
    "            if abs(b) - abs(a) > 0:\n",
    "                print('*', end = ' ')\n",
    "        print('')\n",
    "    return\n",
    "      \n",
    "figura(3)\n",
    "figura(5)\n",
    "figura(10)"
   ]
  },
  {
   "cell_type": "markdown",
   "id": "26421005",
   "metadata": {},
   "source": [
    "5.Напишіть функцію, яка вертає кількість парних та непарних чисел у наданому масиві. Функція має вертати два числа, а після функції створіть повідомлення, яке прописує, скільки було парних та непарних чисел у масиві. \n",
    "Приклад: для наступного входу\n",
    "```\n",
    "numbers = (1, 2, 11, 12, 13, 22, 27, 29) \n",
    "```\n",
    "Функція має повернути результат: `3, 5`.\n",
    "І далі Вам необхідно сформувати повідомлення, яке виведе наступне, використовуючи результат функції:\n",
    "```\n",
    "Кількість парних чисел : 3\n",
    "Кількість непарних : 5\n",
    "```\n",
    "Запустіть алгоритм функція+друк повідомлення для трьох наведених списків. Найзручніше це зробити, пройшовши по спискам у циклі."
   ]
  },
  {
   "cell_type": "code",
   "execution_count": 153,
   "id": "187039a1",
   "metadata": {
    "ExecuteTime": {
     "end_time": "2023-06-09T13:31:45.597939Z",
     "start_time": "2023-06-09T13:31:45.587173Z"
    }
   },
   "outputs": [],
   "source": [
    "numbers_1 = {1, 2, 11, 12, 13, 22, 27, 29}\n",
    "numbers_2 = {1, 22, 412, 312, 73, 3421}\n",
    "numbers_3 = {12, 11, 94, 722, 0, 452}"
   ]
  },
  {
   "cell_type": "code",
   "execution_count": 193,
   "id": "81e238e4",
   "metadata": {
    "ExecuteTime": {
     "end_time": "2023-06-09T13:54:27.567929Z",
     "start_time": "2023-06-09T13:54:27.550565Z"
    }
   },
   "outputs": [
    {
     "name": "stdout",
     "output_type": "stream",
     "text": [
      "numbers_1\n",
      "(3, 5)\n",
      "Кількість парних чисел: 3\n",
      "Кількість непарних: 5\n",
      "numbers_2\n",
      "(3, 3)\n",
      "Кількість парних чисел: 3\n",
      "Кількість непарних: 3\n",
      "numbers_3\n",
      "(5, 1)\n",
      "Кількість парних чисел: 5\n",
      "Кількість непарних: 1\n"
     ]
    }
   ],
   "source": [
    "numbers = dict(numbers_1 = {1, 2, 11, 12, 13, 22, 27, 29},\n",
    "               numbers_2 = {1, 22, 412, 312, 73, 3421},\n",
    "               numbers_3 = {12, 11, 94, 722, 0, 452})\n",
    "\n",
    "def paired_num(my_set):\n",
    "    for key, value in my_set.items():\n",
    "        paired_set = []\n",
    "        unpaired_set = []\n",
    "        for i in value:\n",
    "            if i % 2 == 0:\n",
    "                paired_set.append(i)\n",
    "            else:\n",
    "                unpaired_set.append(i)\n",
    "        print(key)\n",
    "        print((len(paired_set), len(unpaired_set)))\n",
    "        print(f'Кількість парних чисел: {len(paired_set)}')\n",
    "        print(f'Кількість непарних: {len(unpaired_set)}')\n",
    "\n",
    "paired_num(numbers)\n",
    "# numbers"
   ]
  },
  {
   "cell_type": "markdown",
   "id": "ef5cfa42",
   "metadata": {
    "ExecuteTime": {
     "end_time": "2023-02-16T16:55:03.692657Z",
     "start_time": "2023-02-16T16:55:03.646268Z"
    }
   },
   "source": [
    "6.Напишіть функцію, яка приймає на вхід список з назвами чогось та формує і виводить на екран повідомлення, у якому є всі елементи списку, а перед останнім елементом вставлено слово `and` (приклад - далі). Функція має працювати з будь-якими списками, довжина яких є більшою або рівною 2. Наприклад, для списку \n",
    "```\n",
    "cities = ['Budapest', 'Rome', 'Istanbul', 'Sydney', 'Kyiv']\n",
    "```\n",
    "функція має виводити на екран фразу:\n",
    "```\n",
    "'Budapest, Rome, Istanbul, Sydney and Kyiv'\n",
    "``` \n",
    "Запустіть функцію на списках наведених нижче. Для останнього списку має виводитись помилка (exception) або повідомлення про те, що довжина списку має бути як мінімум 2."
   ]
  },
  {
   "cell_type": "code",
   "execution_count": 195,
   "id": "787d02c9",
   "metadata": {
    "ExecuteTime": {
     "end_time": "2023-06-09T13:57:40.800400Z",
     "start_time": "2023-06-09T13:57:40.787669Z"
    }
   },
   "outputs": [],
   "source": [
    "list1 = ['Budapest', 'Rome', 'Istanbul', 'Sydney', 'Kyiv']\n",
    "list2 = ['USA', 'UK', 'Ukraine']\n",
    "list3 = ['apples', 'oranges']\n",
    "list4 = ['Titan']"
   ]
  },
  {
   "cell_type": "code",
   "execution_count": 229,
   "id": "44e87efb",
   "metadata": {
    "ExecuteTime": {
     "end_time": "2023-06-09T14:22:41.577735Z",
     "start_time": "2023-06-09T14:22:41.557756Z"
    }
   },
   "outputs": [
    {
     "name": "stdout",
     "output_type": "stream",
     "text": [
      "Budapest, Rome, Istanbul, Sydney and Kyiv\n",
      "USA, UK and Ukraine\n",
      "apples and oranges\n",
      "Довжина списку має бути як мінімум 2\n"
     ]
    }
   ],
   "source": [
    "def and_function(my_list):\n",
    "    if len(my_list) > 1:\n",
    "        first_words = my_list[0:-1]\n",
    "        last_word = my_list[-1]\n",
    "        print(', '.join(first_words), 'and', last_word)\n",
    "    else:\n",
    "        print('Довжина списку має бути як мінімум 2')\n",
    "        return\n",
    "   \n",
    "and_function(list1)\n",
    "and_function(list2)\n",
    "and_function(list3)\n",
    "and_function(list4)"
   ]
  },
  {
   "cell_type": "markdown",
   "id": "adc4fae4",
   "metadata": {},
   "source": [
    "7.Уявіть, що Ви створюєте пригодницьку гру і використовуєте для зберігання предметів гравця словник, у якому ключі - це назви предметів, значення - кількість одиниць кожної із речей. Наприклад, словник може виглядати так: things = {'ключ': 3, 'булава': 1, 'монета': 24, 'ніж': 1, 'горішки': 10, 'бронежелет': 0}. Створіть фукнцію, яка виводить повідомлення про усі речі гравця у такому вигляді:\n",
    "\n",
    "```\n",
    "У гравця є:\n",
    "3 ключ\n",
    "1 булава\n",
    "24 монета\n",
    "1 ніж\n",
    "10 горішки\n",
    "0 бронежелет\n",
    "Загальна кількість речей: 39\n",
    "```\n",
    "\n",
    "Викличіть фукнцію для наступних гравців:"
   ]
  },
  {
   "cell_type": "code",
   "execution_count": 230,
   "id": "226a3bef",
   "metadata": {
    "ExecuteTime": {
     "end_time": "2023-06-09T14:27:35.700887Z",
     "start_time": "2023-06-09T14:27:35.689034Z"
    }
   },
   "outputs": [],
   "source": [
    "player_1 = {'ключ': 3, 'булава': 1, 'монета': 24, 'ніж': 1, 'горішки': 10, 'бронежелет': 0}\n",
    "player_2 = {'ключ': 0, 'булава': 2, 'монета': 4, 'ніж': 3, 'горішки': 4, 'бронежелет': 1}\n",
    "player_3 = {'ключ': 0, 'булава': 0, 'монета': 30, 'ніж': 0, 'горішки': 2, 'бронежелет': 2}"
   ]
  },
  {
   "cell_type": "code",
   "execution_count": 266,
   "id": "594d5d20",
   "metadata": {
    "ExecuteTime": {
     "end_time": "2023-06-09T14:40:55.111027Z",
     "start_time": "2023-06-09T14:40:55.100947Z"
    }
   },
   "outputs": [
    {
     "name": "stdout",
     "output_type": "stream",
     "text": [
      "У гравця є:\n",
      "3 ключ\n",
      "1 булава\n",
      "24 монета\n",
      "1 ніж\n",
      "10 горішки\n",
      "0 бронежелет\n",
      "Загальна кількість речей: 39\n"
     ]
    }
   ],
   "source": [
    "def tools(my_dict):\n",
    "    print('У гравця є:')\n",
    "    tools_list = []\n",
    "    for key, value in my_dict.items():\n",
    "        print(value, key)\n",
    "        tools_list.append(value)\n",
    "    return print(f'Загальна кількість речей: {sum(tools_list)}')\n",
    "\n",
    "\n",
    "tools(player_1)"
   ]
  },
  {
   "cell_type": "code",
   "execution_count": 267,
   "id": "c310a984",
   "metadata": {
    "ExecuteTime": {
     "end_time": "2023-06-09T14:41:05.655708Z",
     "start_time": "2023-06-09T14:41:05.648948Z"
    }
   },
   "outputs": [
    {
     "name": "stdout",
     "output_type": "stream",
     "text": [
      "У гравця є:\n",
      "0 ключ\n",
      "2 булава\n",
      "4 монета\n",
      "3 ніж\n",
      "4 горішки\n",
      "1 бронежелет\n",
      "Загальна кількість речей: 14\n"
     ]
    }
   ],
   "source": [
    "tools(player_2)"
   ]
  },
  {
   "cell_type": "code",
   "execution_count": 268,
   "id": "549195c0",
   "metadata": {
    "ExecuteTime": {
     "end_time": "2023-06-09T14:41:14.336668Z",
     "start_time": "2023-06-09T14:41:14.330303Z"
    }
   },
   "outputs": [
    {
     "name": "stdout",
     "output_type": "stream",
     "text": [
      "У гравця є:\n",
      "0 ключ\n",
      "0 булава\n",
      "30 монета\n",
      "0 ніж\n",
      "2 горішки\n",
      "2 бронежелет\n",
      "Загальна кількість речей: 34\n"
     ]
    }
   ],
   "source": [
    "tools(player_3)"
   ]
  },
  {
   "cell_type": "code",
   "execution_count": null,
   "id": "85046c01",
   "metadata": {},
   "outputs": [],
   "source": []
  }
 ],
 "metadata": {
  "kernelspec": {
   "display_name": "Python 3 (ipykernel)",
   "language": "python",
   "name": "python3"
  },
  "language_info": {
   "codemirror_mode": {
    "name": "ipython",
    "version": 3
   },
   "file_extension": ".py",
   "mimetype": "text/x-python",
   "name": "python",
   "nbconvert_exporter": "python",
   "pygments_lexer": "ipython3",
   "version": "3.10.9"
  },
  "toc": {
   "base_numbering": 1,
   "nav_menu": {},
   "number_sections": true,
   "sideBar": true,
   "skip_h1_title": false,
   "title_cell": "Table of Contents",
   "title_sidebar": "Contents",
   "toc_cell": false,
   "toc_position": {},
   "toc_section_display": true,
   "toc_window_display": false
  },
  "varInspector": {
   "cols": {
    "lenName": 16,
    "lenType": 16,
    "lenVar": 40
   },
   "kernels_config": {
    "python": {
     "delete_cmd_postfix": "",
     "delete_cmd_prefix": "del ",
     "library": "var_list.py",
     "varRefreshCmd": "print(var_dic_list())"
    },
    "r": {
     "delete_cmd_postfix": ") ",
     "delete_cmd_prefix": "rm(",
     "library": "var_list.r",
     "varRefreshCmd": "cat(var_dic_list()) "
    }
   },
   "types_to_exclude": [
    "module",
    "function",
    "builtin_function_or_method",
    "instance",
    "_Feature"
   ],
   "window_display": false
  }
 },
 "nbformat": 4,
 "nbformat_minor": 5
}
