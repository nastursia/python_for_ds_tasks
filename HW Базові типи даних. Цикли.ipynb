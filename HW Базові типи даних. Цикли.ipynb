{
 "cells": [
  {
   "cell_type": "markdown",
   "id": "add6e4fb",
   "metadata": {},
   "source": [
    "1.Задане значення у змінній var. Перетворіть значення в змінній var на цілочисельне, запишіть в нову змінну `var_int` та виведіть тип нової змінної `var_int`."
   ]
  },
  {
   "cell_type": "code",
   "execution_count": 2,
   "id": "b5a2396e",
   "metadata": {
    "ExecuteTime": {
     "end_time": "2023-06-18T12:39:05.198973Z",
     "start_time": "2023-06-18T12:39:05.194297Z"
    }
   },
   "outputs": [],
   "source": [
    "var = '1224'"
   ]
  },
  {
   "cell_type": "code",
   "execution_count": 5,
   "id": "5ec66ec9",
   "metadata": {
    "ExecuteTime": {
     "end_time": "2023-06-18T12:41:22.387735Z",
     "start_time": "2023-06-18T12:41:22.375314Z"
    }
   },
   "outputs": [
    {
     "data": {
      "text/plain": [
       "1224"
      ]
     },
     "execution_count": 5,
     "metadata": {},
     "output_type": "execute_result"
    }
   ],
   "source": [
    "var_int = int(var)\n",
    "var_int"
   ]
  },
  {
   "cell_type": "markdown",
   "id": "2161d806",
   "metadata": {
    "ExecuteTime": {
     "end_time": "2023-06-13T13:00:19.611699Z",
     "start_time": "2023-06-13T13:00:19.607737Z"
    }
   },
   "source": [
    "2.У Вас є список слів. Виведіть кожне третє слово в списку."
   ]
  },
  {
   "cell_type": "code",
   "execution_count": 7,
   "id": "3591a83e",
   "metadata": {
    "ExecuteTime": {
     "end_time": "2023-06-18T12:41:45.874266Z",
     "start_time": "2023-06-18T12:41:45.854020Z"
    }
   },
   "outputs": [],
   "source": [
    "words = [\"apple\", \"banana\", \"cherry\", \"date\", \"elderberry\", \"fig\", \"grape\", \"honeydew\", \"ice cream\", \"jackfruit\", \"kiwi\", \"lemon\", \"mango\", \"nectarine\", \"orange\", \"pineapple\", \"quince\", \"raspberry\", \"strawberry\", \"tangerine\", \"ugli fruit\", \"vanilla\", \"watermelon\", \"xigua\", \"yam\", \"zucchini\"]"
   ]
  },
  {
   "cell_type": "code",
   "execution_count": 16,
   "id": "5edeeb96",
   "metadata": {
    "ExecuteTime": {
     "end_time": "2023-06-18T12:44:49.551883Z",
     "start_time": "2023-06-18T12:44:49.542758Z"
    }
   },
   "outputs": [
    {
     "data": {
      "text/plain": [
       "['cherry',\n",
       " 'fig',\n",
       " 'ice cream',\n",
       " 'lemon',\n",
       " 'orange',\n",
       " 'raspberry',\n",
       " 'ugli fruit',\n",
       " 'xigua']"
      ]
     },
     "execution_count": 16,
     "metadata": {},
     "output_type": "execute_result"
    }
   ],
   "source": [
    "list(words[2::3])"
   ]
  },
  {
   "cell_type": "markdown",
   "id": "01c26b2b",
   "metadata": {},
   "source": [
    "3.Скільки всього СЛІВ у списку `words`?"
   ]
  },
  {
   "cell_type": "code",
   "execution_count": 21,
   "id": "791e2625",
   "metadata": {
    "ExecuteTime": {
     "end_time": "2023-06-18T12:47:21.796359Z",
     "start_time": "2023-06-18T12:47:21.786950Z"
    }
   },
   "outputs": [
    {
     "data": {
      "text/plain": [
       "26"
      ]
     },
     "execution_count": 21,
     "metadata": {},
     "output_type": "execute_result"
    }
   ],
   "source": [
    "len(words)"
   ]
  },
  {
   "cell_type": "markdown",
   "id": "f89cc5ed",
   "metadata": {
    "ExecuteTime": {
     "end_time": "2023-06-13T13:03:17.414285Z",
     "start_time": "2023-06-13T13:03:17.409285Z"
    }
   },
   "source": [
    "4.Скільки всього ЛІТЕР в усіх словах у списку words?"
   ]
  },
  {
   "cell_type": "code",
   "execution_count": 37,
   "id": "b61c00eb",
   "metadata": {
    "ExecuteTime": {
     "end_time": "2023-06-18T12:57:04.392069Z",
     "start_time": "2023-06-18T12:57:04.382925Z"
    }
   },
   "outputs": [
    {
     "name": "stdout",
     "output_type": "stream",
     "text": [
      "180\n"
     ]
    }
   ],
   "source": [
    "word_len = []\n",
    "for i in words:\n",
    "     word_len.append(len(i))\n",
    "print(sum(word_len))\n"
   ]
  },
  {
   "cell_type": "markdown",
   "id": "7bd231a8",
   "metadata": {},
   "source": [
    "5.Скільки разів зустрічається кожна літера в усіх словах списку `words`? Відсортуйте літери в результуючому словнику за алфавітним порядком."
   ]
  },
  {
   "cell_type": "code",
   "execution_count": 64,
   "id": "89375c5d",
   "metadata": {
    "ExecuteTime": {
     "end_time": "2023-06-18T13:23:16.251126Z",
     "start_time": "2023-06-18T13:23:16.168368Z"
    }
   },
   "outputs": [
    {
     "data": {
      "text/plain": [
       "{' ': 2,\n",
       " 'a': 20,\n",
       " 'b': 4,\n",
       " 'c': 8,\n",
       " 'd': 3,\n",
       " 'e': 24,\n",
       " 'f': 3,\n",
       " 'g': 7,\n",
       " 'h': 3,\n",
       " 'i': 15,\n",
       " 'j': 1,\n",
       " 'k': 2,\n",
       " 'l': 8,\n",
       " 'm': 5,\n",
       " 'n': 15,\n",
       " 'o': 5,\n",
       " 'p': 7,\n",
       " 'q': 1,\n",
       " 'r': 19,\n",
       " 's': 2,\n",
       " 't': 7,\n",
       " 'u': 6,\n",
       " 'v': 1,\n",
       " 'w': 4,\n",
       " 'x': 1,\n",
       " 'y': 6,\n",
       " 'z': 1}"
      ]
     },
     "execution_count": 64,
     "metadata": {},
     "output_type": "execute_result"
    }
   ],
   "source": [
    "list_of_words = []\n",
    "n_repeats = {}\n",
    "for i in words:\n",
    "     for x in i:\n",
    "            list_of_words.append(x)\n",
    "            unique_elements = set(list_of_words)\n",
    "            for el in unique_elements:\n",
    "                count = 0\n",
    "                for el2 in list_of_words:\n",
    "                    if el2 == el:\n",
    "                        count += 1\n",
    "                n_repeats[el] = count\n",
    "                sorted_dict = dict(sorted(n_repeats.items()))\n",
    "sorted_dict"
   ]
  },
  {
   "cell_type": "markdown",
   "id": "f6f8fe67",
   "metadata": {},
   "source": [
    "Очікуваний результат: \n",
    "```\n",
    "{' ': 2,\n",
    " 'a': 20,\n",
    " 'b': 4,\n",
    " 'c': 8,\n",
    " 'd': 3,\n",
    " 'e': 24,\n",
    " 'f': 3,\n",
    " 'g': 7,\n",
    " 'h': 3,\n",
    " 'i': 15,\n",
    " 'j': 1,\n",
    " 'k': 2,\n",
    " 'l': 8,\n",
    " 'm': 5,\n",
    " 'n': 15,\n",
    " 'o': 5,\n",
    " 'p': 7,\n",
    " 'q': 1,\n",
    " 'r': 19,\n",
    " 's': 2,\n",
    " 't': 7,\n",
    " 'u': 6,\n",
    " 'v': 1,\n",
    " 'w': 4,\n",
    " 'x': 1,\n",
    " 'y': 6,\n",
    " 'z': 1}\n",
    " ```"
   ]
  },
  {
   "cell_type": "markdown",
   "id": "ca4bb554",
   "metadata": {},
   "source": [
    "6.Використовуючи результат виконання попереднього завдання, виведіть на екран ту літеру, яка зустрічається найчастіше і скільки разів вона зустрічається. Це треба зробити програмно, а не просто подививщись на дані :) "
   ]
  },
  {
   "cell_type": "code",
   "execution_count": 85,
   "id": "8d93f644",
   "metadata": {
    "ExecuteTime": {
     "end_time": "2023-06-18T13:34:08.929412Z",
     "start_time": "2023-06-18T13:34:08.918327Z"
    }
   },
   "outputs": [
    {
     "data": {
      "text/plain": [
       "{'e': 24}"
      ]
     },
     "execution_count": 85,
     "metadata": {},
     "output_type": "execute_result"
    }
   ],
   "source": [
    "max(sorted_dict.values())\n",
    "max_val1 = {k: v  for k,v in sorted_dict.items() if v == max(sorted_dict.values())}\n",
    "max_val1"
   ]
  },
  {
   "cell_type": "markdown",
   "id": "00c067d3",
   "metadata": {},
   "source": [
    "7.Для кожного елементу списку виведіть тип елемену. Якщо тип обʼєкту - int (тільки цей тип безпосередньо!), виведіть результат піднесення цього числа до степеню 5."
   ]
  },
  {
   "cell_type": "code",
   "execution_count": 86,
   "id": "90e3b9c9",
   "metadata": {
    "ExecuteTime": {
     "end_time": "2023-06-18T13:34:23.917461Z",
     "start_time": "2023-06-18T13:34:23.897254Z"
    }
   },
   "outputs": [],
   "source": [
    "elements = [12, 'type', 'Bob', True, 'False', 1.414, 1444.333, 123/33, 5]"
   ]
  },
  {
   "cell_type": "code",
   "execution_count": 93,
   "id": "fe1fbd4e",
   "metadata": {
    "ExecuteTime": {
     "end_time": "2023-06-18T13:37:09.539167Z",
     "start_time": "2023-06-18T13:37:09.527424Z"
    }
   },
   "outputs": [
    {
     "name": "stdout",
     "output_type": "stream",
     "text": [
      "<class 'int'>\n",
      "248832\n",
      "<class 'str'>\n",
      "<class 'str'>\n",
      "<class 'bool'>\n",
      "<class 'str'>\n",
      "<class 'float'>\n",
      "<class 'float'>\n",
      "<class 'float'>\n",
      "<class 'int'>\n",
      "3125\n"
     ]
    }
   ],
   "source": [
    "for i in elements:\n",
    "    print(type(i))\n",
    "    if type(i) == int:\n",
    "        print(i**5)"
   ]
  },
  {
   "cell_type": "markdown",
   "id": "a23db551",
   "metadata": {
    "ExecuteTime": {
     "end_time": "2023-06-13T12:55:17.795510Z",
     "start_time": "2023-06-13T12:55:17.787158Z"
    }
   },
   "source": [
    "Приклад очікуваного результату (текстові коментарі і форматування можуть бути іншими):\n",
    "```\n",
    "    The type of element 12 is <class 'int'>\n",
    "    This is a number! Let't take it to power 5! The result is: 248832\n",
    "    The type of element type is <class 'str'>\n",
    "    The type of element Bob is <class 'str'>\n",
    "    The type of element True is <class 'bool'>\n",
    "    The type of element False is <class 'str'>\n",
    "    The type of element 1.414 is <class 'float'>\n",
    "    The type of element 1444.333 is <class 'float'>\n",
    "    The type of element 3.727272727272727 is <class 'float'>\n",
    "    The type of element 5 is <class 'int'>\n",
    "    This is a number! Let't take it to power 5! The result is: 3125\n",
    "```"
   ]
  },
  {
   "cell_type": "markdown",
   "id": "3ac95ceb",
   "metadata": {},
   "source": [
    "8.Створіть програму, яка:\n",
    "\n",
    "- Для визначених значень `name` та `age` друкує повідомлення \"Привіт, [Ім’я] ! Вам [Вік] років.\".\n",
    "- Обчислює, скільки років залишилося користувачеві до 100 років, і друкує повідомлення з цією інформацією: \"До 100 років Вам лишилось [Число] років.\"  \n",
    "\n",
    "Запустіть програму для набору користувачів нижче."
   ]
  },
  {
   "cell_type": "code",
   "execution_count": 94,
   "id": "c7604651",
   "metadata": {
    "ExecuteTime": {
     "end_time": "2023-06-18T13:37:31.432705Z",
     "start_time": "2023-06-18T13:37:31.426679Z"
    }
   },
   "outputs": [],
   "source": [
    "users = [\n",
    "    ['Karl', 30],\n",
    "    ['Klara', 15],\n",
    "    ['Alexis', 56],\n",
    "    ['Charles', 99]\n",
    "]"
   ]
  },
  {
   "cell_type": "code",
   "execution_count": 97,
   "id": "c529aa57",
   "metadata": {
    "ExecuteTime": {
     "end_time": "2023-06-18T13:40:42.444506Z",
     "start_time": "2023-06-18T13:40:42.425236Z"
    }
   },
   "outputs": [
    {
     "name": "stdout",
     "output_type": "stream",
     "text": [
      "Привіт, Karl! Вам 30 років. До 100 років Вам лишилось 70 років.\n",
      "Привіт, Klara! Вам 15 років. До 100 років Вам лишилось 85 років.\n",
      "Привіт, Alexis! Вам 56 років. До 100 років Вам лишилось 44 років.\n",
      "Привіт, Charles! Вам 99 років. До 100 років Вам лишилось 1 років.\n"
     ]
    }
   ],
   "source": [
    "for x,y in users:\n",
    "    print(f'Привіт, {x}! Вам {y} років. До 100 років Вам лишилось {100-y} років.')"
   ]
  },
  {
   "cell_type": "markdown",
   "id": "744892cf",
   "metadata": {},
   "source": [
    "9.Напишть фрагмент коду, який перевіряє, чи слово є паліндромом. Слово (або фраза) є паліндромом, якщо при читанні його зворотньому напрямі буде таке саме слово.\n",
    "Наприклад, слово \"radar\" є паліндромом, але \"radix\" не є паліндромом. Код в кінці має видавати результат True або False.  \n",
    "Код має звертати увагу лише на символи-літери. Регістр літер не має значення, а знаки пунктуації (кома, крапка) та `-+=/\\`` мають бути вилучені з рядка перед перевіркою. Так само, пробіли не впливають на визначення,чи слово є палендромом. Мають значення лише літери.\n",
    "Тобто рядки \"A mam, a\" та \"A mamA\" є паліндромами, а \"AmamU\" - ні.\n",
    "\n",
    "Опціонально ви можете розмістити код на перевірку чи є слово паліндромом у фукнцію.\n",
    "Запустіть свій код для рядків з набору нижче і виведіть результат перевірки на екран для кожного рядка."
   ]
  },
  {
   "cell_type": "code",
   "execution_count": 112,
   "id": "0bbf029b",
   "metadata": {
    "ExecuteTime": {
     "end_time": "2023-06-19T08:19:14.550300Z",
     "start_time": "2023-06-19T08:19:14.534561Z"
    }
   },
   "outputs": [],
   "source": [
    "phrases_to_check = [\n",
    "    'radar',\n",
    "    'radix',\n",
    "    'A mam, a',\n",
    "    'A mamA',\n",
    "    'Sit on a potato pan Otis',\n",
    "    'Taco cat.',\n",
    "    'Taco cat',\n",
    "    'Tornado',\n",
    "    \"Go hang a salami, I'm a lasagna hog.\"\n",
    "]"
   ]
  },
  {
   "cell_type": "code",
   "execution_count": 154,
   "id": "d0b1bea8",
   "metadata": {
    "ExecuteTime": {
     "end_time": "2023-06-20T09:18:18.275931Z",
     "start_time": "2023-06-20T09:18:18.263541Z"
    }
   },
   "outputs": [
    {
     "name": "stdout",
     "output_type": "stream",
     "text": [
      "radar - True\n",
      "radix - False\n",
      "A mam, a - False\n",
      "A mamA - False\n",
      "Sit on a potato pan Otis - False\n",
      "Taco cat. - False\n",
      "Taco cat - False\n",
      "Tornado - False\n",
      "Go hang a salami, I'm a lasagna hog. - False\n"
     ]
    }
   ],
   "source": [
    "for word in phrases_to_check:\n",
    "    word_list = list(word)\n",
    "    r = reversed(word_list)\n",
    "    reversed_list = list(r)\n",
    "    if word_list == reversed_list:\n",
    "        print(f'{word} - True')\n",
    "    else:\n",
    "        print(f'{word} - False')"
   ]
  },
  {
   "cell_type": "markdown",
   "id": "18075874",
   "metadata": {},
   "source": [
    "Очкувані результати обчислень:\n",
    "```\n",
    "    radar - True\n",
    "    radix - False\n",
    "    A mam, a - True\n",
    "    A mamA - True\n",
    "    Sit on a potato pan Otis - True\n",
    "    Taco cat. - True\n",
    "    Taco cat - True\n",
    "    Tornado - False\n",
    "    Go hang a salami, I'm a lasagna hog. - True\n",
    "```"
   ]
  }
 ],
 "metadata": {
  "kernelspec": {
   "display_name": "Python 3 (ipykernel)",
   "language": "python",
   "name": "python3"
  },
  "language_info": {
   "codemirror_mode": {
    "name": "ipython",
    "version": 3
   },
   "file_extension": ".py",
   "mimetype": "text/x-python",
   "name": "python",
   "nbconvert_exporter": "python",
   "pygments_lexer": "ipython3",
   "version": "3.10.9"
  },
  "toc": {
   "base_numbering": 1,
   "nav_menu": {},
   "number_sections": true,
   "sideBar": true,
   "skip_h1_title": false,
   "title_cell": "Table of Contents",
   "title_sidebar": "Contents",
   "toc_cell": false,
   "toc_position": {},
   "toc_section_display": true,
   "toc_window_display": false
  },
  "varInspector": {
   "cols": {
    "lenName": 16,
    "lenType": 16,
    "lenVar": 40
   },
   "kernels_config": {
    "python": {
     "delete_cmd_postfix": "",
     "delete_cmd_prefix": "del ",
     "library": "var_list.py",
     "varRefreshCmd": "print(var_dic_list())"
    },
    "r": {
     "delete_cmd_postfix": ") ",
     "delete_cmd_prefix": "rm(",
     "library": "var_list.r",
     "varRefreshCmd": "cat(var_dic_list()) "
    }
   },
   "types_to_exclude": [
    "module",
    "function",
    "builtin_function_or_method",
    "instance",
    "_Feature"
   ],
   "window_display": false
  }
 },
 "nbformat": 4,
 "nbformat_minor": 5
}
